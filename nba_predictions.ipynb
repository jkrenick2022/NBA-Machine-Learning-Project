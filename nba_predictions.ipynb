{
 "cells": [
  {
   "cell_type": "code",
   "execution_count": 11,
   "id": "d4718468-3682-4617-a646-40deae6c0afb",
   "metadata": {},
   "outputs": [
    {
     "data": {
      "text/plain": [
       "(1316, 8)"
      ]
     },
     "execution_count": 11,
     "metadata": {},
     "output_type": "execute_result"
    }
   ],
   "source": [
    "# Load the dataset\n",
    "import pandas as pd\n",
    "df = pd.read_csv('nba_scores.csv')\n",
    "\n",
    "df.shape"
   ]
  },
  {
   "cell_type": "code",
   "execution_count": 71,
   "id": "d7ae36f9-0d38-498b-a658-02cd00f1f9a1",
   "metadata": {},
   "outputs": [
    {
     "data": {
      "text/html": [
       "<div>\n",
       "<style scoped>\n",
       "    .dataframe tbody tr th:only-of-type {\n",
       "        vertical-align: middle;\n",
       "    }\n",
       "\n",
       "    .dataframe tbody tr th {\n",
       "        vertical-align: top;\n",
       "    }\n",
       "\n",
       "    .dataframe thead th {\n",
       "        text-align: right;\n",
       "    }\n",
       "</style>\n",
       "<table border=\"1\" class=\"dataframe\">\n",
       "  <thead>\n",
       "    <tr style=\"text-align: right;\">\n",
       "      <th></th>\n",
       "      <th>season</th>\n",
       "      <th>date</th>\n",
       "      <th>away.team</th>\n",
       "      <th>away.score</th>\n",
       "      <th>home.team</th>\n",
       "      <th>home.score</th>\n",
       "      <th>line</th>\n",
       "      <th>over_under</th>\n",
       "    </tr>\n",
       "  </thead>\n",
       "  <tbody>\n",
       "    <tr>\n",
       "      <th>count</th>\n",
       "      <td>1316.0</td>\n",
       "      <td>1316.000000</td>\n",
       "      <td>1316.000000</td>\n",
       "      <td>1316.000000</td>\n",
       "      <td>1316.000000</td>\n",
       "      <td>1316.000000</td>\n",
       "      <td>1316.000000</td>\n",
       "      <td>1316.000000</td>\n",
       "    </tr>\n",
       "    <tr>\n",
       "      <th>mean</th>\n",
       "      <td>2015.0</td>\n",
       "      <td>87.086626</td>\n",
       "      <td>14.412614</td>\n",
       "      <td>100.971884</td>\n",
       "      <td>14.436170</td>\n",
       "      <td>104.007599</td>\n",
       "      <td>-2.710486</td>\n",
       "      <td>204.595745</td>\n",
       "    </tr>\n",
       "    <tr>\n",
       "      <th>std</th>\n",
       "      <td>0.0</td>\n",
       "      <td>51.545912</td>\n",
       "      <td>8.662886</td>\n",
       "      <td>11.758921</td>\n",
       "      <td>8.663794</td>\n",
       "      <td>11.680406</td>\n",
       "      <td>6.947834</td>\n",
       "      <td>9.107258</td>\n",
       "    </tr>\n",
       "    <tr>\n",
       "      <th>min</th>\n",
       "      <td>2015.0</td>\n",
       "      <td>0.000000</td>\n",
       "      <td>0.000000</td>\n",
       "      <td>68.000000</td>\n",
       "      <td>0.000000</td>\n",
       "      <td>68.000000</td>\n",
       "      <td>-21.500000</td>\n",
       "      <td>104.000000</td>\n",
       "    </tr>\n",
       "    <tr>\n",
       "      <th>25%</th>\n",
       "      <td>2015.0</td>\n",
       "      <td>43.000000</td>\n",
       "      <td>7.000000</td>\n",
       "      <td>93.000000</td>\n",
       "      <td>7.000000</td>\n",
       "      <td>96.000000</td>\n",
       "      <td>-7.500000</td>\n",
       "      <td>198.500000</td>\n",
       "    </tr>\n",
       "    <tr>\n",
       "      <th>50%</th>\n",
       "      <td>2015.0</td>\n",
       "      <td>86.000000</td>\n",
       "      <td>14.000000</td>\n",
       "      <td>101.000000</td>\n",
       "      <td>14.000000</td>\n",
       "      <td>104.000000</td>\n",
       "      <td>-3.500000</td>\n",
       "      <td>204.500000</td>\n",
       "    </tr>\n",
       "    <tr>\n",
       "      <th>75%</th>\n",
       "      <td>2015.0</td>\n",
       "      <td>130.250000</td>\n",
       "      <td>22.000000</td>\n",
       "      <td>109.000000</td>\n",
       "      <td>22.000000</td>\n",
       "      <td>112.000000</td>\n",
       "      <td>2.500000</td>\n",
       "      <td>210.000000</td>\n",
       "    </tr>\n",
       "    <tr>\n",
       "      <th>max</th>\n",
       "      <td>2015.0</td>\n",
       "      <td>209.000000</td>\n",
       "      <td>29.000000</td>\n",
       "      <td>147.000000</td>\n",
       "      <td>29.000000</td>\n",
       "      <td>144.000000</td>\n",
       "      <td>17.000000</td>\n",
       "      <td>233.500000</td>\n",
       "    </tr>\n",
       "  </tbody>\n",
       "</table>\n",
       "</div>"
      ],
      "text/plain": [
       "       season         date    away.team   away.score    home.team  \\\n",
       "count  1316.0  1316.000000  1316.000000  1316.000000  1316.000000   \n",
       "mean   2015.0    87.086626    14.412614   100.971884    14.436170   \n",
       "std       0.0    51.545912     8.662886    11.758921     8.663794   \n",
       "min    2015.0     0.000000     0.000000    68.000000     0.000000   \n",
       "25%    2015.0    43.000000     7.000000    93.000000     7.000000   \n",
       "50%    2015.0    86.000000    14.000000   101.000000    14.000000   \n",
       "75%    2015.0   130.250000    22.000000   109.000000    22.000000   \n",
       "max    2015.0   209.000000    29.000000   147.000000    29.000000   \n",
       "\n",
       "        home.score         line   over_under  \n",
       "count  1316.000000  1316.000000  1316.000000  \n",
       "mean    104.007599    -2.710486   204.595745  \n",
       "std      11.680406     6.947834     9.107258  \n",
       "min      68.000000   -21.500000   104.000000  \n",
       "25%      96.000000    -7.500000   198.500000  \n",
       "50%     104.000000    -3.500000   204.500000  \n",
       "75%     112.000000     2.500000   210.000000  \n",
       "max     144.000000    17.000000   233.500000  "
      ]
     },
     "execution_count": 71,
     "metadata": {},
     "output_type": "execute_result"
    }
   ],
   "source": [
    "# Print out some summary statistics\n",
    "df.describe()"
   ]
  },
  {
   "cell_type": "code",
   "execution_count": 73,
   "id": "1231f832-8c93-44da-a1db-b3325ad6b9e8",
   "metadata": {},
   "outputs": [],
   "source": [
    "# Encode the categorical variables in the dataset\n",
    "from sklearn.preprocessing import LabelEncoder\n",
    "\n",
    "label_encoder = LabelEncoder()\n",
    "\n",
    "df['date'] = label_encoder.fit_transform(df['date'])\n",
    "df['away.team'] = label_encoder.fit_transform(df['away.team'])\n",
    "df['home.team'] = label_encoder.fit_transform(df['home.team'])"
   ]
  },
  {
   "cell_type": "code",
   "execution_count": 43,
   "id": "ce24e8b8-7081-44d1-a6cd-bb3f24e87258",
   "metadata": {},
   "outputs": [
    {
     "name": "stdout",
     "output_type": "stream",
     "text": [
      "Index(['season', 'date', 'away.team', 'away.score', 'home.team', 'home.score',\n",
      "       'line', 'over_under'],\n",
      "      dtype='object')\n"
     ]
    }
   ],
   "source": [
    "# Choose which variables will be the Input and Output\n",
    "X = df.drop(columns=['away.score', 'home.score'])\n",
    "y = df.loc[:, ['away.score', 'home.score']]"
   ]
  },
  {
   "cell_type": "code",
   "execution_count": 67,
   "id": "67b38572-31f9-42e5-bc16-9d6d418a72eb",
   "metadata": {},
   "outputs": [],
   "source": [
    "# Create mock data to test on the model\n",
    "# Create a new df with this data and encode it\n",
    "data = [\n",
    "    [2024, \"2024-10-22\", \"New York Knicks\", \"Boston Celtics\", -5.5, 222.5],\n",
    "    [2024, \"2024-10-22\", \"Minnesota Timberwolves\", \"Los Angeles Lakers\", 1.5, 225.5],\n",
    "    [2024, \"2024-10-23\", \"Golden State Warriors\", \"Portland Trail Blazers\", 3.5, 226.5]\n",
    "]\n",
    "test_df = pd.DataFrame(data, columns=X.columns)\n",
    "\n",
    "test_df['date'] = label_encoder.fit_transform(test_df['date'])\n",
    "test_df['away.team'] = label_encoder.fit_transform(test_df['away.team'])\n",
    "test_df['home.team'] = label_encoder.fit_transform(test_df['home.team'])"
   ]
  },
  {
   "cell_type": "code",
   "execution_count": 69,
   "id": "88c2a0a4-25f4-48d3-b967-2bb56caf7981",
   "metadata": {},
   "outputs": [
    {
     "data": {
      "text/plain": [
       "array([[108, 112],\n",
       "       [112,  92],\n",
       "       [122, 124]])"
      ]
     },
     "execution_count": 69,
     "metadata": {},
     "output_type": "execute_result"
    }
   ],
   "source": [
    "# Create the model and make predictions\n",
    "from sklearn.tree import DecisionTreeClassifier\n",
    "\n",
    "model = DecisionTreeClassifier()\n",
    "model.fit(X, y)\n",
    "predictions = model.predict(test_df)"
   ]
  },
  {
   "cell_type": "code",
   "execution_count": 75,
   "id": "8eab3e92-c3f2-47af-abbd-9e9a40fa0d85",
   "metadata": {},
   "outputs": [
    {
     "name": "stdout",
     "output_type": "stream",
     "text": [
      "Away Score: 108 : Home Score: 112\n",
      "Away Score: 112 : Home Score: 92\n",
      "Away Score: 122 : Home Score: 124\n"
     ]
    }
   ],
   "source": [
    "# Output the predictions\n",
    "for game in predictions:\n",
    "    print(f\"Away Score: {game[0]} : Home Score: {game[1]}\")"
   ]
  },
  {
   "cell_type": "code",
   "execution_count": null,
   "id": "83873ffe-b7e4-4af2-a4d6-032b47a03e82",
   "metadata": {},
   "outputs": [],
   "source": []
  }
 ],
 "metadata": {
  "kernelspec": {
   "display_name": "anaconda-2024.02-py310",
   "language": "python",
   "name": "conda-env-anaconda-2024.02-py310-py"
  },
  "language_info": {
   "codemirror_mode": {
    "name": "ipython",
    "version": 3
   },
   "file_extension": ".py",
   "mimetype": "text/x-python",
   "name": "python",
   "nbconvert_exporter": "python",
   "pygments_lexer": "ipython3",
   "version": "3.10.14"
  }
 },
 "nbformat": 4,
 "nbformat_minor": 5
}
